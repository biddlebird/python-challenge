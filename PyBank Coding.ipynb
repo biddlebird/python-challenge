{
 "cells": [
  {
   "cell_type": "code",
   "execution_count": 116,
   "metadata": {},
   "outputs": [],
   "source": [
    "import pandas as pd\n"
   ]
  },
  {
   "cell_type": "code",
   "execution_count": 117,
   "metadata": {},
   "outputs": [
    {
     "data": {
      "text/html": [
       "<div>\n",
       "<style scoped>\n",
       "    .dataframe tbody tr th:only-of-type {\n",
       "        vertical-align: middle;\n",
       "    }\n",
       "\n",
       "    .dataframe tbody tr th {\n",
       "        vertical-align: top;\n",
       "    }\n",
       "\n",
       "    .dataframe thead th {\n",
       "        text-align: right;\n",
       "    }\n",
       "</style>\n",
       "<table border=\"1\" class=\"dataframe\">\n",
       "  <thead>\n",
       "    <tr style=\"text-align: right;\">\n",
       "      <th></th>\n",
       "      <th>Date</th>\n",
       "      <th>Profit/Losses</th>\n",
       "    </tr>\n",
       "  </thead>\n",
       "  <tbody>\n",
       "    <tr>\n",
       "      <th>0</th>\n",
       "      <td>Jan-10</td>\n",
       "      <td>1088983</td>\n",
       "    </tr>\n",
       "    <tr>\n",
       "      <th>1</th>\n",
       "      <td>Feb-10</td>\n",
       "      <td>-354534</td>\n",
       "    </tr>\n",
       "    <tr>\n",
       "      <th>2</th>\n",
       "      <td>Mar-10</td>\n",
       "      <td>276622</td>\n",
       "    </tr>\n",
       "    <tr>\n",
       "      <th>3</th>\n",
       "      <td>Apr-10</td>\n",
       "      <td>-728133</td>\n",
       "    </tr>\n",
       "    <tr>\n",
       "      <th>4</th>\n",
       "      <td>May-10</td>\n",
       "      <td>852993</td>\n",
       "    </tr>\n",
       "  </tbody>\n",
       "</table>\n",
       "</div>"
      ],
      "text/plain": [
       "     Date  Profit/Losses\n",
       "0  Jan-10        1088983\n",
       "1  Feb-10        -354534\n",
       "2  Mar-10         276622\n",
       "3  Apr-10        -728133\n",
       "4  May-10         852993"
      ]
     },
     "execution_count": 117,
     "metadata": {},
     "output_type": "execute_result"
    }
   ],
   "source": [
    "csv_path = '/Users/kaylabiddle/Downloads/Starter_Code-3/PyBank/Resources/budget_data.csv'\n",
    "budget_data = pd.read_csv(csv_path)\n",
    "budget_data.head()"
   ]
  },
  {
   "cell_type": "code",
   "execution_count": 118,
   "metadata": {},
   "outputs": [
    {
     "name": "stdout",
     "output_type": "stream",
     "text": [
      "Total number of months: 86\n",
      "Total: $22564198\n",
      "Average Change: $-8311.11\n",
      "Greatest Increase in Profits: Aug-16 ($1862002.0)\n",
      "Greatest Decrease in Profits: Feb-14 ($-1825558.0)\n"
     ]
    }
   ],
   "source": [
    "# The total number of months included in the dataset\n",
    "def calculate_total_months(df):\n",
    "   total_months = df[\"Date\"].nunique()\n",
    "   return total_months\n",
    "   \n",
    "# The net total amount of \"Profit/Losses\" over the entire period\n",
    "def calculate_total_profit(df):\n",
    "    profit = df[\"Profit/Losses\"].sum()\n",
    "    return profit\n",
    "  \n",
    "# The changes in \"Profit/Losses\" over the entire period, and then the average of those changes\n",
    "def calculate_average_change(df):\n",
    "    df['Monthly Change'] = df[\"Profit/Losses\"].diff()\n",
    "    average_change = df['Monthly Change'][1:].mean()\n",
    "    return average_change\n",
    "\n",
    "# Calculate the greatest increase and decrease in profits (including date)\n",
    "def calculate_greatest_increase(df):\n",
    "    max_increase = df['Monthly Change'].max()\n",
    "    max_increase_date = df.loc[df['Monthly Change'] == max_increase, 'Date'].iloc[0]\n",
    "    return max_increase_date, max_increase\n",
    "\n",
    "def calculate_greatest_decrease(df):\n",
    "    max_decrease = df['Monthly Change'].min()\n",
    "    max_decrease_date = df.loc[df['Monthly Change'] == max_decrease, 'Date'].iloc[0]\n",
    "    return max_decrease_date, max_decrease\n",
    "\n",
    "# Calculations\n",
    "total_months = calculate_total_months(budget_data)\n",
    "total_profit = calculate_total_profit(budget_data)\n",
    "average_change = calculate_average_change(budget_data)\n",
    "greatest_increase_date, greatest_increase = calculate_greatest_increase(budget_data)\n",
    "greatest_decrease_date, greatest_decrease = calculate_greatest_decrease(budget_data)\n",
    "\n",
    "# Print it all out\n",
    "print(f\"Total number of months: {total_months}\")\n",
    "print(f\"Total: ${total_profit}\")\n",
    "print(f\"Average Change: ${average_change:.2f}\")\n",
    "print(f\"Greatest Increase in Profits: {greatest_increase_date} (${greatest_increase})\")\n",
    "print(f\"Greatest Decrease in Profits: {greatest_decrease_date} (${greatest_decrease})\")\n"
   ]
  }
 ],
 "metadata": {
  "kernelspec": {
   "display_name": "PythonData",
   "language": "python",
   "name": "python3"
  },
  "language_info": {
   "codemirror_mode": {
    "name": "ipython",
    "version": 3
   },
   "file_extension": ".py",
   "mimetype": "text/x-python",
   "name": "python",
   "nbconvert_exporter": "python",
   "pygments_lexer": "ipython3",
   "version": "3.7.16"
  }
 },
 "nbformat": 4,
 "nbformat_minor": 2
}
