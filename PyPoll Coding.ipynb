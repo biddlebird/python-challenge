{
 "cells": [
  {
   "cell_type": "code",
   "execution_count": 5,
   "metadata": {},
   "outputs": [
    {
     "data": {
      "text/html": [
       "<div>\n",
       "<style scoped>\n",
       "    .dataframe tbody tr th:only-of-type {\n",
       "        vertical-align: middle;\n",
       "    }\n",
       "\n",
       "    .dataframe tbody tr th {\n",
       "        vertical-align: top;\n",
       "    }\n",
       "\n",
       "    .dataframe thead th {\n",
       "        text-align: right;\n",
       "    }\n",
       "</style>\n",
       "<table border=\"1\" class=\"dataframe\">\n",
       "  <thead>\n",
       "    <tr style=\"text-align: right;\">\n",
       "      <th></th>\n",
       "      <th>Ballot ID</th>\n",
       "      <th>County</th>\n",
       "      <th>Candidate</th>\n",
       "    </tr>\n",
       "  </thead>\n",
       "  <tbody>\n",
       "    <tr>\n",
       "      <th>0</th>\n",
       "      <td>1323913</td>\n",
       "      <td>Jefferson</td>\n",
       "      <td>Charles Casper Stockham</td>\n",
       "    </tr>\n",
       "    <tr>\n",
       "      <th>1</th>\n",
       "      <td>1005842</td>\n",
       "      <td>Jefferson</td>\n",
       "      <td>Charles Casper Stockham</td>\n",
       "    </tr>\n",
       "    <tr>\n",
       "      <th>2</th>\n",
       "      <td>1880345</td>\n",
       "      <td>Jefferson</td>\n",
       "      <td>Charles Casper Stockham</td>\n",
       "    </tr>\n",
       "    <tr>\n",
       "      <th>3</th>\n",
       "      <td>1600337</td>\n",
       "      <td>Jefferson</td>\n",
       "      <td>Charles Casper Stockham</td>\n",
       "    </tr>\n",
       "    <tr>\n",
       "      <th>4</th>\n",
       "      <td>1835994</td>\n",
       "      <td>Jefferson</td>\n",
       "      <td>Charles Casper Stockham</td>\n",
       "    </tr>\n",
       "  </tbody>\n",
       "</table>\n",
       "</div>"
      ],
      "text/plain": [
       "   Ballot ID     County                Candidate\n",
       "0    1323913  Jefferson  Charles Casper Stockham\n",
       "1    1005842  Jefferson  Charles Casper Stockham\n",
       "2    1880345  Jefferson  Charles Casper Stockham\n",
       "3    1600337  Jefferson  Charles Casper Stockham\n",
       "4    1835994  Jefferson  Charles Casper Stockham"
      ]
     },
     "execution_count": 5,
     "metadata": {},
     "output_type": "execute_result"
    }
   ],
   "source": [
    "import pandas as pd\n",
    "from collections import Counter\n",
    "csv_path = '/Users/kaylabiddle/Downloads/Starter_Code-3/PyPoll/Resources/election_data.csv'\n",
    "voting_data = pd.read_csv(csv_path)\n",
    "voting_data.head()"
   ]
  },
  {
   "cell_type": "code",
   "execution_count": 32,
   "metadata": {},
   "outputs": [
    {
     "name": "stdout",
     "output_type": "stream",
     "text": [
      "Total Votes: 369711\n",
      "•Charles Casper Stockham: 23.049% (85213)\n",
      "•Diana DeGette: 73.812% (272892)\n",
      "•Raymon Anthony Doane: 3.139% (11606)\n",
      "Winner: Diana DeGette\n"
     ]
    }
   ],
   "source": [
    "# Total Number of Votes Cast\n",
    "def calculate_total_votes(df):\n",
    "    total_votes = df[\"Ballot ID\"].nunique()\n",
    "    return total_votes \n",
    "total_votes = calculate_total_votes(voting_data)\n",
    "print(f\"Total Votes: {total_votes}\")\n",
    "\n",
    "# A Complete List of canidates who recieved votes, percentage, total votes\n",
    "def calculate_candidate_list(df):\n",
    "    names = df[\"Candidate\"]\n",
    "    name_counts = Counter(names)\n",
    "    return name_counts\n",
    "    \n",
    "name_counts = calculate_candidate_list(voting_data)    \n",
    "for name, count in name_counts.items():\n",
    "    percentage = (count/total_votes)*100\n",
    "    print(f\"•{name}: {percentage:.3f}% ({count})\")\n",
    "\n",
    "def calculate_winner(df):\n",
    "    names = df[\"Candidate\"]\n",
    "    name_counts = Counter(names)\n",
    "    most_votes = name_counts.most_common(1)[0]\n",
    "    return most_votes\n",
    "\n",
    "most_votes = calculate_winner(voting_data)\n",
    "winner_name = most_votes[0]\n",
    "\n",
    "print(f\"Winner: {winner_name}\")"
   ]
  }
 ],
 "metadata": {
  "kernelspec": {
   "display_name": "PythonData",
   "language": "python",
   "name": "python3"
  },
  "language_info": {
   "codemirror_mode": {
    "name": "ipython",
    "version": 3
   },
   "file_extension": ".py",
   "mimetype": "text/x-python",
   "name": "python",
   "nbconvert_exporter": "python",
   "pygments_lexer": "ipython3",
   "version": "3.7.16"
  }
 },
 "nbformat": 4,
 "nbformat_minor": 2
}
